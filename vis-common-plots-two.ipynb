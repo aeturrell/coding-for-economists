{
 "cells": [
  {
   "cell_type": "markdown",
   "metadata": {},
   "source": [
    "(vis-common-plots-two)=\n",
    "# Common Plots II\n",
    "\n",
    "## Introduction\n",
    "\n",
    "Carrying on from the previous chapter, we'll look at more of the most common plots that you might want to make—and how to create them using the most popular data visualisations libraries, including [**matplotlib**](https://matplotlib.org/), [**lets-plot**](https://lets-plot.org/), [**seaborn**](https://seaborn.pydata.org/), [**altair**](https://altair-viz.github.io/), and [**plotly**](https://plotly.com/python/).\n",
    "\n",
    "Let's import the libraries we'll need."
   ]
  },
  {
   "cell_type": "code",
   "execution_count": null,
   "metadata": {},
   "outputs": [],
   "source": [
    "import warnings\n",
    "from pathlib import Path\n",
    "\n",
    "import altair as alt\n",
    "import matplotlib.pyplot as plt\n",
    "import numpy as np\n",
    "import pandas as pd\n",
    "import plotly.express as px\n",
    "import seaborn as sns\n",
    "import seaborn.objects as so\n",
    "from lets_plot import *\n",
    "from lets_plot.mapping import as_discrete\n",
    "from vega_datasets import data\n",
    "\n",
    "# Set seed for reproducibility\n",
    "# Set seed for random numbers\n",
    "seed_for_prng = 78557\n",
    "prng = np.random.default_rng(\n",
    "    seed_for_prng\n",
    ")  # prng=probabilistic random number generator\n",
    "\n",
    "# Turn off warnings\n",
    "warnings.filterwarnings(\"ignore\")\n",
    "# Set up lets-plot charts\n",
    "LetsPlot.setup_html()"
   ]
  },
  {
   "cell_type": "code",
   "execution_count": null,
   "metadata": {
    "tags": [
     "remove-cell"
    ]
   },
   "outputs": [],
   "source": [
    "import matplotlib_inline.backend_inline\n",
    "\n",
    "# Plot settings\n",
    "plt.style.use(\n",
    "    \"https://github.com/aeturrell/coding-for-economists/raw/main/plot_style.txt\"\n",
    ")\n",
    "matplotlib_inline.backend_inline.set_matplotlib_formats(\"svg\")\n",
    "# some faffing here to try and get seaborn not to change theme in object API\n",
    "# sns.set_theme(rc=plt.rcParams)\n",
    "# Set max rows displayed for readability\n",
    "pd.set_option(\"display.max_rows\", 6)"
   ]
  },
  {
   "cell_type": "markdown",
   "metadata": {},
   "source": [
    "## Overlapping Area plot\n",
    "\n",
    "For this, let's look at the dominance of the three most used methods for detecting exoplanets."
   ]
  },
  {
   "cell_type": "code",
   "execution_count": null,
   "metadata": {},
   "outputs": [],
   "source": [
    "planets = sns.load_dataset(\"planets\")\n",
    "most_pop_methods = (\n",
    "    planets.groupby([\"method\"])[\"number\"]\n",
    "    .sum()\n",
    "    .sort_values(ascending=False)\n",
    "    .index[:3]\n",
    "    .values\n",
    ")\n",
    "planets = planets[planets[\"method\"].isin(most_pop_methods)]\n",
    "planets.head()"
   ]
  },
  {
   "cell_type": "markdown",
   "metadata": {},
   "source": [
    "### Matplotlib\n",
    "\n",
    "The easiest way to do this in matplotlib is to adjust the data a bit first and then use the built-in **pandas** plot function. (This is true in other cases too, but in this case it's much more complex otherwise)."
   ]
  },
  {
   "cell_type": "code",
   "execution_count": null,
   "metadata": {},
   "outputs": [],
   "source": [
    "(\n",
    "    planets.groupby([\"year\", \"method\"])[\"number\"]\n",
    "    .sum()\n",
    "    .unstack()\n",
    "    .plot.area(alpha=0.6, ylim=(0, None))\n",
    "    .set_title(\"Planets dicovered by top 3 methods\", loc=\"left\")\n",
    ");"
   ]
  },
  {
   "attachments": {},
   "cell_type": "markdown",
   "metadata": {},
   "source": [
    "### Seaborn"
   ]
  },
  {
   "cell_type": "code",
   "execution_count": null,
   "metadata": {},
   "outputs": [],
   "source": [
    "(\n",
    "    so.Plot(\n",
    "        planets.groupby([\"year\", \"method\"])[\"number\"].sum().reset_index(),\n",
    "        x=\"year\",\n",
    "        y=\"number\",\n",
    "        color=\"method\",\n",
    "    ).add(so.Area(alpha=0.3), so.Agg(), so.Stack())\n",
    ")"
   ]
  },
  {
   "cell_type": "markdown",
   "metadata": {},
   "source": [
    "### Lets-Plot\n",
    "\n"
   ]
  },
  {
   "cell_type": "code",
   "execution_count": null,
   "metadata": {},
   "outputs": [],
   "source": [
    "(\n",
    "    ggplot(\n",
    "        planets.groupby([\"year\", \"method\"])[\"number\"].sum().reset_index(),\n",
    "        aes(x=\"year\", y=\"number\", fill=\"method\", group=\"method\", color=\"method\"),\n",
    "    )\n",
    "    + geom_area(stat=\"identity\", alpha=0.5)\n",
    "    + scale_x_continuous(format=\"d\")\n",
    ")"
   ]
  },
  {
   "cell_type": "markdown",
   "metadata": {},
   "source": [
    "### Altair\n"
   ]
  },
  {
   "cell_type": "code",
   "execution_count": null,
   "metadata": {},
   "outputs": [],
   "source": [
    "alt.Chart(\n",
    "    planets.groupby([\"year\", \"method\"])[\"number\"]\n",
    "    .sum()\n",
    "    .reset_index()\n",
    "    .assign(\n",
    "        year=lambda x: pd.to_datetime(x[\"year\"], format=\"%Y\")\n",
    "        + pd.tseries.offsets.YearEnd()\n",
    "    )\n",
    ").mark_area().encode(x=\"year:T\", y=\"number:Q\", color=\"method:N\")"
   ]
  },
  {
   "cell_type": "markdown",
   "metadata": {},
   "source": [
    "## Slope chart\n",
    "\n",
    "A slope chart has two points connected by a line and is good for indicating how relationships between variables have changed over time."
   ]
  },
  {
   "cell_type": "code",
   "execution_count": null,
   "metadata": {},
   "outputs": [],
   "source": [
    "df = pd.read_csv(\n",
    "    \"https://raw.githubusercontent.com/selva86/datasets/master/gdppercap.csv\"\n",
    ")\n",
    "df = pd.melt(\n",
    "    df,\n",
    "    id_vars=[\"continent\"],\n",
    "    value_vars=df.columns[1:],\n",
    "    value_name=\"GDP per capita\",\n",
    "    var_name=\"Year\",\n",
    ").rename(columns={\"continent\": \"Continent\"})\n",
    "df.head()"
   ]
  },
  {
   "cell_type": "markdown",
   "metadata": {},
   "source": [
    "### Matplotlib\n",
    "\n",
    "There isn't an off-the-shelf way to do this in matplotlib but the example below shows that, with matplotlib, where there's a will there's a way! It's where the 'build-what-you-want' comes into its own. Note that the functino that's defined returns an `Axes` object so that you can do further processing and tweaking as you like."
   ]
  },
  {
   "cell_type": "code",
   "execution_count": null,
   "metadata": {},
   "outputs": [],
   "source": [
    "from matplotlib import lines as mlines\n",
    "\n",
    "\n",
    "def slope_plot(data, x, y, group, before_txt=\"Before\", after_txt=\"After\"):\n",
    "    if len(data[x].unique()) != 2:\n",
    "        raise ValueError(\"Slope plot must have two unique periods.\")\n",
    "    wide_data = data[[x, y, group]].pivot(index=group, columns=x, values=y)\n",
    "    x_names = list(wide_data.columns)\n",
    "\n",
    "    fig, ax = plt.subplots()\n",
    "\n",
    "    def newline(p1, p2, color=\"black\"):\n",
    "        ax = plt.gca()\n",
    "        line = mlines.Line2D(\n",
    "            [p1[0], p2[0]],\n",
    "            [p1[1], p2[1]],\n",
    "            color=\"red\" if p1[1] - p2[1] > 0 else \"green\",\n",
    "            marker=\"o\",\n",
    "            markersize=6,\n",
    "        )\n",
    "        ax.add_line(line)\n",
    "        return line\n",
    "\n",
    "    # Vertical Lines\n",
    "    y_min = data[y].min()\n",
    "    y_max = data[y].max()\n",
    "    ax.vlines(\n",
    "        x=1,\n",
    "        ymin=y_min,\n",
    "        ymax=y_max,\n",
    "        color=\"black\",\n",
    "        alpha=0.7,\n",
    "        linewidth=1,\n",
    "        linestyles=\"dotted\",\n",
    "    )\n",
    "    ax.vlines(\n",
    "        x=3,\n",
    "        ymin=y_min,\n",
    "        ymax=y_max,\n",
    "        color=\"black\",\n",
    "        alpha=0.7,\n",
    "        linewidth=1,\n",
    "        linestyles=\"dotted\",\n",
    "    )\n",
    "    # Points\n",
    "    ax.scatter(\n",
    "        y=wide_data[x_names[0]],\n",
    "        x=np.repeat(1, wide_data.shape[0]),\n",
    "        s=15,\n",
    "        color=\"black\",\n",
    "        alpha=0.7,\n",
    "    )\n",
    "    ax.scatter(\n",
    "        y=wide_data[x_names[1]],\n",
    "        x=np.repeat(3, wide_data.shape[0]),\n",
    "        s=15,\n",
    "        color=\"black\",\n",
    "        alpha=0.7,\n",
    "    )\n",
    "    # Line Segmentsand Annotation\n",
    "    for p1, p2, c in zip(wide_data[x_names[0]], wide_data[x_names[1]], wide_data.index):\n",
    "        newline([1, p1], [3, p2])\n",
    "        ax.text(\n",
    "            1 - 0.05,\n",
    "            p1,\n",
    "            c,\n",
    "            horizontalalignment=\"right\",\n",
    "            verticalalignment=\"center\",\n",
    "            fontdict={\"size\": 14},\n",
    "        )\n",
    "        ax.text(\n",
    "            3 + 0.05,\n",
    "            p2,\n",
    "            c,\n",
    "            horizontalalignment=\"left\",\n",
    "            verticalalignment=\"center\",\n",
    "            fontdict={\"size\": 14},\n",
    "        )\n",
    "    # 'Before' and 'After' Annotations\n",
    "    ax.text(\n",
    "        1 - 0.05,\n",
    "        y_max + abs(y_max) * 0.1,\n",
    "        before_txt,\n",
    "        horizontalalignment=\"right\",\n",
    "        verticalalignment=\"center\",\n",
    "        fontdict={\"size\": 16, \"weight\": 700},\n",
    "    )\n",
    "    ax.text(\n",
    "        3 + 0.05,\n",
    "        y_max + abs(y_max) * 0.1,\n",
    "        after_txt,\n",
    "        horizontalalignment=\"left\",\n",
    "        verticalalignment=\"center\",\n",
    "        fontdict={\"size\": 16, \"weight\": 700},\n",
    "    )\n",
    "    # Decoration\n",
    "    ax.set(\n",
    "        xlim=(0, 4), ylabel=y, ylim=(y_min - 0.1 * abs(y_min), y_max + abs(y_max) * 0.1)\n",
    "    )\n",
    "    ax.set_xticks([1, 3])\n",
    "    ax.set_xticklabels(x_names)\n",
    "    # Lighten borders\n",
    "    for ax_pos in [\"top\", \"bottom\", \"right\", \"left\"]:\n",
    "        ax.spines[ax_pos].set_visible(False)\n",
    "    return ax\n",
    "\n",
    "\n",
    "slope_plot(df, x=\"Year\", y=\"GDP per capita\", group=\"Continent\");"
   ]
  },
  {
   "cell_type": "markdown",
   "metadata": {},
   "source": [
    "### Seaborn"
   ]
  },
  {
   "cell_type": "code",
   "execution_count": null,
   "metadata": {},
   "outputs": [],
   "source": [
    "(\n",
    "    so.Plot(df, x=\"Year\", y=\"GDP per capita\", color=\"Continent\")\n",
    "    .add(so.Line(marker=\"o\"), so.Agg())\n",
    "    .add(so.Range())\n",
    ")"
   ]
  },
  {
   "cell_type": "markdown",
   "metadata": {},
   "source": [
    "### Lets-Plot"
   ]
  },
  {
   "cell_type": "code",
   "execution_count": null,
   "metadata": {},
   "outputs": [],
   "source": [
    "(\n",
    "    ggplot(df, aes(x=\"Year\", y=\"GDP per capita\", group=\"Continent\"))\n",
    "    + geom_line(aes(color=\"Continent\"), size=1)\n",
    "    + geom_point(aes(color=\"Continent\"), size=4)\n",
    ")"
   ]
  },
  {
   "cell_type": "markdown",
   "metadata": {},
   "source": [
    "### Altair"
   ]
  },
  {
   "cell_type": "code",
   "execution_count": null,
   "metadata": {},
   "outputs": [],
   "source": [
    "alt.Chart(df).mark_line().encode(x=\"Year:O\", y=\"GDP per capita\", color=\"Continent\")"
   ]
  },
  {
   "cell_type": "markdown",
   "metadata": {},
   "source": [
    "### Plotly"
   ]
  },
  {
   "cell_type": "code",
   "execution_count": null,
   "metadata": {},
   "outputs": [],
   "source": [
    "import plotly.graph_objects as go\n",
    "\n",
    "yr_names = [int(x) for x in df[\"Year\"].unique()]\n",
    "px_df = (\n",
    "    df.pivot(index=\"Continent\", columns=\"Year\", values=\"GDP per capita\")\n",
    "    .reset_index()\n",
    "    .rename(columns=dict(zip(df[\"Year\"].unique(), range(len(df[\"Year\"].unique())))))\n",
    ")\n",
    "\n",
    "x_offset = 5\n",
    "\n",
    "fig1 = go.Figure()\n",
    "# Draw lines\n",
    "for index, row in px_df.iterrows():\n",
    "    fig1.add_shape(\n",
    "        type=\"line\",\n",
    "        x0=yr_names[0],\n",
    "        y0=row[0],\n",
    "        x1=yr_names[1],\n",
    "        y1=row[1],\n",
    "        name=row[\"Continent\"],\n",
    "        line=dict(color=px.colors.qualitative.Plotly[index]),\n",
    "    )\n",
    "    fig1.add_trace(\n",
    "        go.Scatter(\n",
    "            x=[yr_names[0]],\n",
    "            y=[row[0]],\n",
    "            text=row[\"Continent\"],\n",
    "            mode=\"text\",\n",
    "            name=None,\n",
    "        )\n",
    "    )\n",
    "\n",
    "\n",
    "fig1.update_xaxes(range=[yr_names[0] - x_offset, yr_names[1] + x_offset])\n",
    "fig1.update_yaxes(\n",
    "    range=[px_df[[0, 1]].min().min() * 0.8, px_df[[0, 1]].max().max() * 1.2]\n",
    ")\n",
    "fig1.update_layout(showlegend=False)\n",
    "fig1.show()"
   ]
  },
  {
   "cell_type": "markdown",
   "metadata": {},
   "source": [
    "## Dumbbell Plot\n",
    "\n",
    "These are excellent for showing a change in time with a large number of categories, as we will do here with continents and mean GDP per capita."
   ]
  },
  {
   "cell_type": "code",
   "execution_count": null,
   "metadata": {},
   "outputs": [],
   "source": [
    "df = pd.read_csv(\n",
    "    \"https://raw.githubusercontent.com/selva86/datasets/master/gdppercap.csv\"\n",
    ")\n",
    "df = pd.melt(\n",
    "    df,\n",
    "    id_vars=[\"continent\"],\n",
    "    value_vars=df.columns[1:],\n",
    "    value_name=\"GDP per capita\",\n",
    "    var_name=\"Year\",\n",
    ").rename(columns={\"continent\": \"Continent\"})\n",
    "df.head()"
   ]
  },
  {
   "cell_type": "markdown",
   "metadata": {},
   "source": [
    "### Matplotlib\n",
    "\n",
    "Again, no off-the-shelf method--but that's no problem when you can build it yourself."
   ]
  },
  {
   "cell_type": "code",
   "execution_count": null,
   "metadata": {},
   "outputs": [],
   "source": [
    "def dumbbell_plot(data, x, y, change):\n",
    "    if len(data[x].unique()) != 2:\n",
    "        raise ValueError(\"Dumbbell plot must have two unique periods.\")\n",
    "    if not isinstance(data[y].iloc[0], str):\n",
    "        raise ValueError(\"Dumbbell plot y variable only works with category values.\")\n",
    "    wide_data = data[[x, y, change]].pivot(index=y, columns=x, values=change)\n",
    "    x_names = list(wide_data.columns)\n",
    "    y_names = list(wide_data.index)\n",
    "\n",
    "    def newline(p1, p2, color=\"black\"):\n",
    "        ax = plt.gca()\n",
    "        line = mlines.Line2D([p1[0], p2[0]], [p1[1], p2[1]], color=\"skyblue\", zorder=0)\n",
    "        ax.add_line(line)\n",
    "        return line\n",
    "\n",
    "    fig, ax = plt.subplots()\n",
    "    # Points\n",
    "    ax.scatter(\n",
    "        y=range(len(y_names)),\n",
    "        x=wide_data[x_names[1]],\n",
    "        s=50,\n",
    "        color=\"#0e668b\",\n",
    "        alpha=0.9,\n",
    "        zorder=2,\n",
    "        label=x_names[1],\n",
    "    )\n",
    "    ax.scatter(\n",
    "        y=range(len(y_names)),\n",
    "        x=wide_data[x_names[0]],\n",
    "        s=50,\n",
    "        color=\"#a3c4dc\",\n",
    "        alpha=0.9,\n",
    "        zorder=1,\n",
    "        label=x_names[0],\n",
    "    )\n",
    "    # Line segments\n",
    "    for i, p1, p2 in zip(\n",
    "        range(len(y_names)), wide_data[x_names[0]], wide_data[x_names[1]]\n",
    "    ):\n",
    "        newline([p1, i], [p2, i])\n",
    "    ax.set_yticks(range(len(y_names)))\n",
    "    ax.set_yticklabels(y_names)\n",
    "    # Decoration\n",
    "    # Lighten borders\n",
    "    for ax_pos in [\"top\", \"right\", \"left\"]:\n",
    "        ax.spines[ax_pos].set_visible(False)\n",
    "    ax.set_xlabel(change)\n",
    "    ax.legend(frameon=False, loc=\"lower right\")\n",
    "    plt.show()\n",
    "\n",
    "\n",
    "dumbbell_plot(df, x=\"Year\", y=\"Continent\", change=\"GDP per capita\")"
   ]
  },
  {
   "attachments": {},
   "cell_type": "markdown",
   "metadata": {},
   "source": [
    "### Seaborn"
   ]
  },
  {
   "cell_type": "code",
   "execution_count": null,
   "metadata": {},
   "outputs": [],
   "source": [
    "(\n",
    "    so.Plot(df, y=\"Continent\", x=\"GDP per capita\", color=\"Year\").add(\n",
    "        so.Dots(pointsize=10, fillalpha=1)\n",
    "    )\n",
    ")"
   ]
  },
  {
   "cell_type": "markdown",
   "metadata": {},
   "source": [
    "### Lets-Plot"
   ]
  },
  {
   "cell_type": "code",
   "execution_count": null,
   "metadata": {},
   "outputs": [],
   "source": [
    "(\n",
    "    ggplot(df, aes(y=\"Continent\", x=\"GDP per capita\", group=\"Continent\"))\n",
    "    + geom_line(color=\"black\", size=2)\n",
    "    + geom_point(aes(color=\"Year\"), size=5)\n",
    "    + ggsize(400, 500)\n",
    ")"
   ]
  },
  {
   "cell_type": "markdown",
   "metadata": {},
   "source": [
    "### Plotly"
   ]
  },
  {
   "cell_type": "code",
   "execution_count": null,
   "metadata": {},
   "outputs": [],
   "source": [
    "import plotly.graph_objects as go\n",
    "\n",
    "fig1 = go.Figure()\n",
    "\n",
    "yr_names = df[\"Year\"].unique()\n",
    "\n",
    "\n",
    "# Draw lines\n",
    "for i, cont in enumerate(df[\"Continent\"].unique()):\n",
    "    cdf = df[df[\"Continent\"] == cont]\n",
    "    fig1.add_shape(\n",
    "        type=\"line\",\n",
    "        x0=cdf.loc[cdf[\"Year\"] == yr_names[0], \"GDP per capita\"].values[0],\n",
    "        y0=cont,\n",
    "        x1=cdf.loc[cdf[\"Year\"] == yr_names[1], \"GDP per capita\"].values[0],\n",
    "        y1=cont,\n",
    "        line=dict(color=px.colors.qualitative.Plotly[0], width=2),\n",
    "    )\n",
    "# Draw points\n",
    "for i, year in enumerate(yr_names):\n",
    "    yrdf = df[df[\"Year\"] == year]\n",
    "    fig1.add_trace(\n",
    "        go.Scatter(\n",
    "            y=yrdf[\"Continent\"],\n",
    "            x=yrdf[\"GDP per capita\"],\n",
    "            mode=\"markers\",\n",
    "            name=year,\n",
    "            marker_color=px.colors.qualitative.Plotly[i],\n",
    "            marker_size=10,\n",
    "        ),\n",
    "    )\n",
    "\n",
    "fig1.show()"
   ]
  },
  {
   "cell_type": "markdown",
   "metadata": {},
   "source": [
    "## Polar\n",
    "\n",
    "I'm not sure I've ever seen a polar plots in economics, but you never know.\n",
    "\n",
    "Let's generate some polar data first:\n"
   ]
  },
  {
   "cell_type": "code",
   "execution_count": null,
   "metadata": {},
   "outputs": [],
   "source": [
    "r = np.arange(0, 2, 0.01)\n",
    "theta = 2 * np.pi * r\n",
    "polar_data = pd.DataFrame({\"r\": r, \"theta\": theta})\n",
    "polar_data.head()"
   ]
  },
  {
   "cell_type": "markdown",
   "metadata": {},
   "source": [
    "### Matplotlib\n"
   ]
  },
  {
   "cell_type": "code",
   "execution_count": null,
   "metadata": {},
   "outputs": [],
   "source": [
    "ax = plt.subplot(111, projection=\"polar\")\n",
    "ax.plot(polar_data[\"theta\"], polar_data[\"r\"])\n",
    "ax.set_rmax(2)\n",
    "ax.set_rticks([0.5, 1, 1.5, 2])  # Fewer radial ticks\n",
    "ax.set_rlabel_position(-22.5)  # Move radial labels away from plotted line\n",
    "ax.grid(True)\n",
    "plt.show()"
   ]
  },
  {
   "cell_type": "markdown",
   "metadata": {},
   "source": [
    "### Plotly"
   ]
  },
  {
   "cell_type": "code",
   "execution_count": null,
   "metadata": {},
   "outputs": [],
   "source": [
    "fig = go.Figure(\n",
    "    data=go.Scatterpolar(\n",
    "        r=polar_data[\"r\"].values,\n",
    "        theta=polar_data[\"theta\"].values * 180 / (np.pi),\n",
    "        mode=\"lines\",\n",
    "    )\n",
    ")\n",
    "\n",
    "fig.update_layout(showlegend=False)\n",
    "fig.show()"
   ]
  },
  {
   "cell_type": "markdown",
   "metadata": {},
   "source": [
    "## Radar (or spider) chart\n",
    "\n",
    "Let's generate some synthetic data for this one. Assumes that result to be shown is the sum of observations."
   ]
  },
  {
   "cell_type": "code",
   "execution_count": null,
   "metadata": {},
   "outputs": [],
   "source": [
    "df = pd.DataFrame(\n",
    "    dict(\n",
    "        zip(\n",
    "            [\"var\" + str(i) for i in range(1, 6)],\n",
    "            [np.random.randint(30, size=(4)) for i in range(1, 6)],\n",
    "        )\n",
    "    )\n",
    ")\n",
    "df.head()"
   ]
  },
  {
   "cell_type": "code",
   "execution_count": null,
   "metadata": {},
   "outputs": [],
   "source": [
    "from math import pi\n",
    "\n",
    "\n",
    "def radar_plot(data, variables):\n",
    "    n_vars = len(variables)\n",
    "    # Plot the first line of the data frame.\n",
    "    # Repeat the first value to close the circular graph:\n",
    "    values = data.loc[data.index[0], variables].values.flatten().tolist()\n",
    "    values += values[:1]\n",
    "    # What will be the angle of each axis in the plot? (we divide / number of variable)\n",
    "    angles = [n / float(n_vars) * 2 * pi for n in range(n_vars)]\n",
    "    angles += angles[:1]\n",
    "    # Initialise the spider plot\n",
    "    ax = plt.subplot(111, polar=True)\n",
    "    # Draw one axe per variable + add labels\n",
    "    plt.xticks(angles[:-1], variables)\n",
    "    # Draw ylabels\n",
    "    ax.set_rlabel_position(0)\n",
    "    # Plot data\n",
    "    ax.plot(angles, values, linewidth=1, linestyle=\"solid\")\n",
    "    # Fill area\n",
    "    ax.fill(angles, values, \"b\", alpha=0.1)\n",
    "    return ax\n",
    "\n",
    "\n",
    "radar_plot(df, df.columns);"
   ]
  },
  {
   "cell_type": "markdown",
   "metadata": {},
   "source": [
    "### Plotly"
   ]
  },
  {
   "cell_type": "code",
   "execution_count": null,
   "metadata": {},
   "outputs": [],
   "source": [
    "df = px.data.wind()\n",
    "print(df.head())\n",
    "fig = px.line_polar(\n",
    "    df,\n",
    "    r=\"frequency\",\n",
    "    theta=\"direction\",\n",
    "    color=\"strength\",\n",
    "    line_close=True,\n",
    "    color_discrete_sequence=px.colors.sequential.Plasma_r,\n",
    "    template=\"plotly_dark\",\n",
    ")\n",
    "fig.show()"
   ]
  },
  {
   "cell_type": "markdown",
   "metadata": {},
   "source": [
    "## Wordcloud\n",
    "\n",
    "These should be used sparingly. Let's grab part of a famous text from Project Gutenberg:"
   ]
  },
  {
   "cell_type": "code",
   "execution_count": null,
   "metadata": {
    "tags": []
   },
   "outputs": [],
   "source": [
    "# To run this example, download smith_won.txt from\n",
    "# https://github.com/aeturrell/coding-for-economists/blob/main/data/smith_won.txt\n",
    "# and put it in a sub-folder called 'data\n",
    "\n",
    "book_text = open(Path(\"data\", \"smith_won.txt\"), \"r\", encoding=\"utf-8\").read()\n",
    "# Print some lines\n",
    "print(\"\\n\".join(book_text.split(\"\\n\")[107:117]))"
   ]
  },
  {
   "cell_type": "code",
   "execution_count": null,
   "metadata": {},
   "outputs": [],
   "source": [
    "from wordcloud import WordCloud\n",
    "\n",
    "wordcloud = WordCloud(width=700, height=400).generate(book_text)\n",
    "fig, ax = plt.subplots(facecolor=\"k\")\n",
    "ax.imshow(wordcloud, interpolation=\"bilinear\")\n",
    "plt.axis(\"off\")\n",
    "plt.tight_layout();"
   ]
  },
  {
   "cell_type": "markdown",
   "metadata": {},
   "source": [
    "We can also create a 'mask' for the wordcloud to shape it how we like, here in the shape of a book."
   ]
  },
  {
   "cell_type": "code",
   "execution_count": null,
   "metadata": {},
   "outputs": [],
   "source": [
    "# To run this example, download book_mask.png from\n",
    "# https://github.com/aeturrell/coding-for-economists/raw/main/data/book_mask.png\n",
    "# and put it in a sub-folder called 'data\n",
    "from PIL import Image\n",
    "\n",
    "mask = np.array(Image.open(Path(\"data\", \"book_mask.png\")))\n",
    "wc = WordCloud(width=700, height=400, mask=mask, background_color=\"white\")\n",
    "wordcloud = wc.generate(book_text)\n",
    "fig, ax = plt.subplots(facecolor=\"white\")\n",
    "ax.imshow(wordcloud, interpolation=\"bilinear\")\n",
    "plt.axis(\"off\")\n",
    "plt.tight_layout();"
   ]
  },
  {
   "cell_type": "markdown",
   "metadata": {},
   "source": [
    "## Network diagrams\n",
    "\n",
    "### networkx\n",
    "\n",
    "The most well-established network visualisation package is [**networkx**](https://networkx.org/documentation/stable/index.html), which does a *lot* more than just visualisation. It has many different positioning options for rendering any given network, for instance in circular, spectral, spring, Fruchterman-Reingold, or other styles. In the below example, we use a **pandas** dataframe to specify the edges in two columns but there are various other ways to specify the network too, including ones that do not rely on **pandas**.\n",
    "\n",
    "The underlying plot is rendered with **matplotlib**, meaning that you can customise it further should you need to. You can pass an `Axes` object `ax` to `nx.draw()` using `nx.draw(..., ax=ax)`."
   ]
  },
  {
   "cell_type": "code",
   "execution_count": null,
   "metadata": {},
   "outputs": [],
   "source": [
    "import networkx as nx\n",
    "\n",
    "df = pd.DataFrame(\n",
    "    {\n",
    "        \"source\": [\"A\", \"B\", \"C\", \"A\", \"E\", \"F\", \"E\", \"G\", \"G\", \"D\", \"F\"],\n",
    "        \"target\": [\"D\", \"A\", \"E\", \"C\", \"A\", \"F\", \"G\", \"D\", \"B\", \"G\", \"C\"],\n",
    "    }\n",
    ")\n",
    "G = nx.from_pandas_edgelist(df)\n",
    "nx.draw(G, with_labels=True, node_size=500, node_color=\"skyblue\")"
   ]
  },
  {
   "cell_type": "markdown",
   "metadata": {},
   "source": [
    "## Ridge, or 'joy', plots\n",
    "\n",
    "These are famous from the front cover of “Unkown Pleasures” by Joy Division. Let's look at an example showing the global increase in temperature.\n",
    "\n",
    "We'll use a summary of the daily land-surface average temperature anomaly produced by the Berkeley Earth averaging method. Temperatures are in Celsius and reported as anomalies relative to the Jan 1951-Dec 1980 average (the estimated Jan 1951-Dec 1980 land-average temperature is 8.63 +/- 0.06 C)."
   ]
  },
  {
   "cell_type": "code",
   "execution_count": null,
   "metadata": {},
   "outputs": [],
   "source": [
    "# To run this example, download the pickle file from\n",
    "# https://github.com/aeturrell/coding-for-economists/blob/main/data/berkeley_data.pkl\n",
    "# and put it in a sub-folder called 'data'\n",
    "df = pd.read_pickle(Path(\"data/berkeley_data.pkl\"))\n",
    "df.head()"
   ]
  },
  {
   "cell_type": "markdown",
   "metadata": {},
   "source": [
    "### Lets-Plot"
   ]
  },
  {
   "cell_type": "code",
   "execution_count": null,
   "metadata": {},
   "outputs": [],
   "source": [
    "final_year = df[\"Year\"].max()\n",
    "first_year = df[\"Year\"].min()\n",
    "\n",
    "breaks = [y for y in list(df.Year.unique()) if y % 10 == 0]\n",
    "(\n",
    "    ggplot(df, aes(\"Anomaly\", \"Year\", fill=\"Year\"))\n",
    "    + geom_area_ridges(scale=20, alpha=1, size=0.2, trim=True, show_legend=False)\n",
    "    + scale_y_continuous(breaks=breaks, trans=\"reverse\")\n",
    "    + scale_fill_viridis(option=\"inferno\")\n",
    "    + ggtitle(\n",
    "        \"Global daily temperature anomaly {0}-{1} \\n(°C above 1951-80 average)\".format(\n",
    "            first_year, final_year\n",
    "        )\n",
    "    )\n",
    ")"
   ]
  },
  {
   "cell_type": "markdown",
   "metadata": {},
   "source": [
    "## Contour Plot\n",
    "\n",
    "Contour plots can help you show how a third variable, Z, varies with both X and Y (ie Z is a surface). The way that Z is depicted could be via the density of lines drawn in the X-Y plane (use `ax.contour()` for this) or via colour, as in the example below (using `ax.contourf()`).\n",
    "\n",
    "The heatmap (or contour plot) below, which has a colour bar legend and a title that's rendered with latex, uses a perceptually uniform distribution that makes equal changes look equal; **matplotlib** has a few of these. If you need more colours, check out the packages [**colorcet**](https://colorcet.holoviz.org/) and [**palettable**](https://jiffyclub.github.io/palettable/)."
   ]
  },
  {
   "cell_type": "markdown",
   "metadata": {},
   "source": [
    "### Matplotlib"
   ]
  },
  {
   "cell_type": "markdown",
   "metadata": {},
   "source": [
    "Note that, in the below, Z is returned by a function that accepts a grid of X and Y values."
   ]
  },
  {
   "cell_type": "code",
   "execution_count": null,
   "metadata": {},
   "outputs": [],
   "source": [
    "def f(x, y):\n",
    "    return np.sin(x) ** 10 + np.cos(10 + y * x) * np.cos(x)\n",
    "\n",
    "\n",
    "x = np.linspace(0, 5, 100)\n",
    "y = np.linspace(0, 5, 100)\n",
    "\n",
    "X, Y = np.meshgrid(x, y)\n",
    "Z = f(X, Y)\n",
    "\n",
    "fig, ax = plt.subplots()\n",
    "cf = ax.contourf(X, Y, Z, cmap=\"plasma\")\n",
    "ax.set_title(r\"$f(x,y) = \\sin^{10}(x) + \\cos(x)\\cos\\left(10 + y\\cdot x\\right)$\")\n",
    "cbar = fig.colorbar(cf);"
   ]
  },
  {
   "cell_type": "markdown",
   "metadata": {},
   "source": [
    "### Lets-Plot"
   ]
  },
  {
   "cell_type": "code",
   "execution_count": null,
   "metadata": {},
   "outputs": [],
   "source": [
    "contour_data = {\"x\": X.flatten(), \"y\": Y.flatten(), \"z\": Z.flatten()}\n",
    "(\n",
    "    ggplot(contour_data)\n",
    "    + geom_contourf(aes(x=\"x\", y=\"y\", z=\"z\", fill=\"..level..\"))\n",
    "    + scale_fill_viridis(option=\"plasma\")\n",
    "    + ggtitle(\"Maths equations don't currently work\")\n",
    ")"
   ]
  },
  {
   "cell_type": "markdown",
   "metadata": {},
   "source": [
    "### Plotly"
   ]
  },
  {
   "cell_type": "code",
   "execution_count": null,
   "metadata": {},
   "outputs": [],
   "source": [
    "import plotly.graph_objects as go\n",
    "\n",
    "grid_fig = go.Figure(data=go.Contour(z=Z, x=x, y=y))\n",
    "\n",
    "grid_fig.show()"
   ]
  },
  {
   "cell_type": "markdown",
   "metadata": {},
   "source": [
    "## Waterfall chart\n",
    "\n",
    "Waterfall charts are good for showing how different contributions combine to net out at a certain value. There's a package dedicated to them called [**waterfallcharts**](https://github.com/chrispaulca/waterfall). It builds on **matplotlib**. First, let's create some data:"
   ]
  },
  {
   "cell_type": "code",
   "execution_count": null,
   "metadata": {},
   "outputs": [],
   "source": [
    "a = [\"sales\", \"returns\", \"credit fees\", \"rebates\", \"late charges\", \"shipping\"]\n",
    "b = [10, -30, -7.5, -25, 95, -7]"
   ]
  },
  {
   "cell_type": "markdown",
   "metadata": {},
   "source": [
    "Now let's plot this data. Because the defaults of **waterfallcharts** don't play that nicely with the plot style used for this book, we'll temporarily switch back to the **matplotlib** default plot style using a *context* and `with` statement:"
   ]
  },
  {
   "cell_type": "code",
   "execution_count": null,
   "metadata": {},
   "outputs": [],
   "source": [
    "import waterfall_chart\n",
    "\n",
    "with plt.style.context(\"default\"):\n",
    "    plot = waterfall_chart.plot(a, b, sorted_value=True, rotation_value=0)"
   ]
  },
  {
   "cell_type": "markdown",
   "metadata": {},
   "source": [
    "### Plotly\n",
    "\n"
   ]
  },
  {
   "cell_type": "code",
   "execution_count": null,
   "metadata": {},
   "outputs": [],
   "source": [
    "import plotly.graph_objects as go\n",
    "\n",
    "px_b = b + [sum(b)]\n",
    "\n",
    "fig = go.Figure(\n",
    "    go.Waterfall(\n",
    "        name=\"20\",\n",
    "        orientation=\"v\",\n",
    "        measure=[\"relative\"] * len(a) + [\"total\"],\n",
    "        x=a + [\"net\"],\n",
    "        textposition=\"outside\",\n",
    "        text=[str(x) for x in b] + [\"net\"],\n",
    "        y=px_b,\n",
    "        connector={\"line\": {\"color\": \"rgb(63, 63, 63)\"}},\n",
    "    )\n",
    ")\n",
    "\n",
    "fig.show()"
   ]
  },
  {
   "cell_type": "markdown",
   "metadata": {},
   "source": [
    "## Venn\n",
    "\n",
    "Venn diagrams show the overlap between groups. As with some of these other, more unsual chart types, there's a special package that produces these and which builds on **matplotlib**."
   ]
  },
  {
   "cell_type": "code",
   "execution_count": null,
   "metadata": {},
   "outputs": [],
   "source": [
    "from matplotlib_venn import venn2\n",
    "\n",
    "venn2(subsets=(10, 5, 2), set_labels=(\"Group A\", \"Group B\"), alpha=0.5)\n",
    "plt.show()"
   ]
  },
  {
   "cell_type": "markdown",
   "metadata": {},
   "source": [
    "## Priestley Timeline\n",
    "\n",
    "This displays a timeline of start and end events in time, and their overlap."
   ]
  },
  {
   "cell_type": "code",
   "execution_count": null,
   "metadata": {},
   "outputs": [],
   "source": [
    "df = pd.read_csv(\n",
    "    \"https://github.com/aeturrell/coding-for-economists/raw/main/data/priestley-timeline.csv\",\n",
    "    parse_dates=[\"Born\", \"Died\"],\n",
    "    dayfirst=True,\n",
    ")\n",
    "df = df.sort_values(\"Born\")\n",
    "\n",
    "# Create the plot\n",
    "fig, ax = plt.subplots(figsize=(12, 6))\n",
    "\n",
    "for i, (index, row) in enumerate(df.iterrows()):\n",
    "    lifespan = (row[\"Died\"] - row[\"Born\"]).days\n",
    "    bar = ax.barh(len(df) - 1 - i, lifespan, left=row[\"Born\"], height=0.5)\n",
    "    text_x = row[\"Born\"] + pd.Timedelta(days=lifespan / 2)\n",
    "\n",
    "    # Add text inside the bar\n",
    "    ax.text(\n",
    "        text_x,\n",
    "        len(df) - 1 - i,\n",
    "        row[\"Name\"],\n",
    "        va=\"center\",\n",
    "        ha=\"center\",\n",
    "        color=\"k\",\n",
    "        fontweight=\"bold\",\n",
    "        fontsize=8,\n",
    "    )\n",
    "\n",
    "ax.set_yticks([])\n",
    "plt.xlabel(\"Year\")\n",
    "plt.show()"
   ]
  },
  {
   "cell_type": "markdown",
   "metadata": {},
   "source": [
    "## Waffle, isotype, or pictogram charts\n",
    "\n",
    "These are great for showing easily-understandable magnitudes."
   ]
  },
  {
   "cell_type": "markdown",
   "metadata": {},
   "source": [
    "### Matplotlib\n",
    "\n",
    "There is a package called [**pywaffle**](https://github.com/gyli/PyWaffle) that provides a convenient way of doing this. It expects a dictionary of values. Note that the icon can be changed and, because it builds on **matplotlib**, you can tweak to your heart's content."
   ]
  },
  {
   "cell_type": "code",
   "execution_count": null,
   "metadata": {},
   "outputs": [],
   "source": [
    "from pywaffle import Waffle\n",
    "\n",
    "data = {\"Democratic\": 48, \"Republican\": 46, \"Libertarian\": 3}\n",
    "fig = plt.figure(\n",
    "    FigureClass=Waffle,\n",
    "    rows=5,\n",
    "    values=data,\n",
    "    colors=[\"#232066\", \"#983D3D\", \"#DCB732\"],\n",
    "    legend={\"loc\": \"upper left\", \"bbox_to_anchor\": (1, 1)},\n",
    "    icons=\"child\",\n",
    "    font_size=12,\n",
    "    icon_legend=True,\n",
    ")\n",
    "plt.show()"
   ]
  },
  {
   "cell_type": "markdown",
   "metadata": {},
   "source": [
    "### Lets-Plot\n",
    "\n",
    "As ever, **Lets-Plot** prefers tidy format data. We'll create a mini dataset just to demonstrate its use:"
   ]
  },
  {
   "cell_type": "code",
   "execution_count": null,
   "metadata": {},
   "outputs": [],
   "source": [
    "import itertools\n",
    "\n",
    "df = pd.DataFrame(list(itertools.product(range(10), range(10))), columns=[\"x\", \"y\"])\n",
    "df[\"filled\"] = 0\n",
    "df.iloc[:32, 2] = 1\n",
    "df.head()"
   ]
  },
  {
   "cell_type": "code",
   "execution_count": null,
   "metadata": {},
   "outputs": [],
   "source": [
    "g = (\n",
    "    ggplot(df, aes(x=\"x\", y=\"y\", fill=as_discrete(\"filled\")))\n",
    "    + geom_tile(alpha=0.5, color=\"black\")\n",
    "    + scale_fill_manual([\"green\", \"blue\"])\n",
    "    + coord_flip()\n",
    "    + geom_text(x=5, y=5, label=f\"{int(100*df.filled.mean())}%\", size=30, color=\"white\")\n",
    "    + theme(\n",
    "        axis=element_blank(),\n",
    "        panel_grid_major=element_blank(),\n",
    "        panel_grid_minor=element_blank(),\n",
    "    )\n",
    "    + xlab(\"\")\n",
    "    + ylab(\"\")\n",
    ")\n",
    "g"
   ]
  },
  {
   "cell_type": "markdown",
   "metadata": {},
   "source": [
    "## Pyramid\n",
    "\n"
   ]
  },
  {
   "cell_type": "code",
   "execution_count": null,
   "metadata": {},
   "outputs": [],
   "source": [
    "df = pd.read_csv(\n",
    "    \"https://raw.githubusercontent.com/selva86/datasets/master/email_campaign_funnel.csv\"\n",
    ")\n",
    "df.head()"
   ]
  },
  {
   "cell_type": "markdown",
   "metadata": {},
   "source": [
    "### Matplotlib/Seaborn"
   ]
  },
  {
   "cell_type": "code",
   "execution_count": null,
   "metadata": {},
   "outputs": [],
   "source": [
    "fig, ax = plt.subplots()\n",
    "group_col = \"Gender\"\n",
    "order_of_bars = df.Stage.unique()[::-1]\n",
    "colors = [\n",
    "    plt.cm.Spectral(i / float(len(df[group_col].unique()) - 1))\n",
    "    for i in range(len(df[group_col].unique()))\n",
    "]\n",
    "\n",
    "for c, group in zip(colors, df[group_col].unique()):\n",
    "    sns.barplot(\n",
    "        x=\"Users\",\n",
    "        y=\"Stage\",\n",
    "        data=df.loc[df[group_col] == group, :],\n",
    "        order=order_of_bars,\n",
    "        color=c,\n",
    "        label=group,\n",
    "        ax=ax,\n",
    "        lw=0,\n",
    "    )\n",
    "\n",
    "divisor = 1e6\n",
    "ax.set_xticklabels([str(abs(x) / divisor) for x in ax.get_xticks()])\n",
    "plt.xlabel(\"Users (millions)\")\n",
    "plt.ylabel(\"Stage of Purchase\")\n",
    "plt.yticks(fontsize=12)\n",
    "plt.title(\"Population Pyramid of the Marketing Funnel\", fontsize=22)\n",
    "plt.legend(frameon=False)\n",
    "plt.show()"
   ]
  },
  {
   "cell_type": "markdown",
   "metadata": {},
   "source": [
    "### Lets-Plot\n",
    "\n",
    "Unfortunately, the 20 character limit is hardcoded, so y labels are cut off. But the full text can be seen in the axial tooltip."
   ]
  },
  {
   "cell_type": "code",
   "execution_count": null,
   "metadata": {},
   "outputs": [],
   "source": [
    "g = (\n",
    "    ggplot(df, aes(x=\"Stage\", y=\"Users\", fill=\"Gender\", weight=\"Users\"))\n",
    "    + geom_bar(width=0.8)  # baseplot\n",
    "    + coord_flip()  # flip coordinates\n",
    "    + theme_minimal()\n",
    "    + ylab(\"Users (millions)\")\n",
    ")\n",
    "g"
   ]
  },
  {
   "cell_type": "markdown",
   "metadata": {},
   "source": [
    "### Plotly"
   ]
  },
  {
   "cell_type": "code",
   "execution_count": null,
   "metadata": {},
   "outputs": [],
   "source": [
    "fig = px.funnel(df, y=\"Stage\", x=\"Users\")\n",
    "fig.show()"
   ]
  },
  {
   "cell_type": "markdown",
   "metadata": {},
   "source": [
    "## Sankey diagram\n",
    "\n",
    "Sankey diagrams show how a flow breaks into pieces."
   ]
  },
  {
   "cell_type": "markdown",
   "metadata": {},
   "source": [
    "### Plotly"
   ]
  },
  {
   "cell_type": "code",
   "execution_count": null,
   "metadata": {},
   "outputs": [],
   "source": [
    "import plotly.graph_objects as go\n",
    "\n",
    "labels = [\"A1\", \"A2\", \"B1\", \"B2\", \"C1\", \"C2\"]\n",
    "\n",
    "fig = go.Figure(\n",
    "    data=[\n",
    "        go.Sankey(\n",
    "            node=dict(\n",
    "                pad=15,\n",
    "                thickness=20,\n",
    "                line=dict(color=\"black\", width=0.5),\n",
    "                label=labels,\n",
    "                color=px.colors.qualitative.Plotly[: len(labels)],\n",
    "            ),\n",
    "            # indices correspond to labels, eg A1, A2, A1, B1, ...\n",
    "            link=dict(\n",
    "                source=[0, 1, 0, 2, 3, 3, 2],\n",
    "                target=[2, 3, 3, 4, 4, 5, 5],\n",
    "                value=[7, 3, 2, 6, 4, 2, 1],\n",
    "            ),\n",
    "        )\n",
    "    ]\n",
    ")\n",
    "\n",
    "fig.update_layout(title_text=\"Basic Sankey Diagram\", font_size=10)\n",
    "fig.show()"
   ]
  },
  {
   "cell_type": "markdown",
   "metadata": {},
   "source": [
    "## Dendrogram or hierarchical clustering\n",
    "\n"
   ]
  },
  {
   "cell_type": "markdown",
   "metadata": {},
   "source": [
    "### Seaborn\n",
    "\n"
   ]
  },
  {
   "cell_type": "code",
   "execution_count": null,
   "metadata": {},
   "outputs": [],
   "source": [
    "# Data\n",
    "df = (\n",
    "    pd.read_csv(\n",
    "        \"https://vincentarelbundock.github.io/Rdatasets/csv/datasets/mtcars.csv\"\n",
    "    )\n",
    "    .rename(columns={\"rownames\": \"Model\"})\n",
    "    .set_index(\"Model\")\n",
    ")\n",
    "# Plot\n",
    "sns.clustermap(\n",
    "    df, metric=\"correlation\", method=\"single\", standard_scale=1, cmap=\"vlag\"\n",
    ");"
   ]
  },
  {
   "cell_type": "markdown",
   "metadata": {},
   "source": [
    "## Treemap\n"
   ]
  },
  {
   "cell_type": "markdown",
   "metadata": {},
   "source": [
    "### Plotly\n"
   ]
  },
  {
   "cell_type": "code",
   "execution_count": null,
   "metadata": {},
   "outputs": [],
   "source": [
    "import numpy as np\n",
    "import plotly.express as px\n",
    "\n",
    "df = px.data.gapminder().query(\"year == 2007\")\n",
    "fig = px.treemap(\n",
    "    df,\n",
    "    path=[px.Constant(\"world\"), \"continent\", \"country\"],\n",
    "    values=\"pop\",\n",
    "    color=\"lifeExp\",\n",
    "    hover_data=[\"iso_alpha\"],\n",
    "    color_continuous_scale=\"RdBu\",\n",
    "    color_continuous_midpoint=np.average(df[\"lifeExp\"], weights=df[\"pop\"]),\n",
    ")\n",
    "fig.update_layout(margin=dict(t=50, l=25, r=25, b=25))\n",
    "fig.show()"
   ]
  }
 ],
 "metadata": {
  "celltoolbar": "Tags",
  "kernelspec": {
   "display_name": "codeforecon",
   "language": "python",
   "name": "python3"
  },
  "language_info": {
   "codemirror_mode": {
    "name": "ipython",
    "version": 3
   },
   "file_extension": ".py",
   "mimetype": "text/x-python",
   "name": "python",
   "nbconvert_exporter": "python",
   "pygments_lexer": "ipython3",
   "version": "3.10.16"
  }
 },
 "nbformat": 4,
 "nbformat_minor": 4
}
