{
 "cells": [
  {
   "attachments": {},
   "cell_type": "markdown",
   "metadata": {},
   "source": [
    "(vis-tables)=\n",
    "# Tables\n"
   ]
  },
  {
   "attachments": {},
   "cell_type": "markdown",
   "metadata": {},
   "source": [
    "## Introduction\n",
    "\n",
    "The humble table is an underloved and underappreciated element of communicating analysis. While it may not be as visually engaging as a vivid graph (and is far less good for a general audience), it has the advantage of being able to convey exact numerical information. It's also an essential part of some analysis: for example, when writing economics papers, there is usually a \"table 1\" that contains descriptive statistics. (For more on best practice for tables, check out the advice provided by the UK government's [Analysis Function](https://analysisfunction.civilservice.gov.uk/policy-store/data-visualisation-tables/).)\n",
    "\n",
    "### Options\n",
    "\n",
    "There are three main options for tables in Python.\n",
    "\n",
    "1. **pandas**, which has some solid table export options. This is especially convenient if your data are already in a dataframe.\n",
    "2. The **gt** (**g**reat **t**ables) package by Posit, who also made an R version of the same package. This makes really good HTML and latex tables: [check here for the package website](https://posit-dev.github.io/great-tables/articles/intro.html).\n",
    "3. Finally, if you're happy with *image* output formats, **matplotlib**—the infinitely flexible image package—is great. However, your tables *have* to be exported as image files rather than as machine-readable text-based files. If you want a *graphic* table that is more striking, **matplotib** is brilliant. I wouldn't say it's the simplest way to create tables, as it relies on content featured in {ref}`vis-matplotlib` and {ref}`vis-common-plots-one`, plus more besides. Rather than cover it here, instead we're just going to direct you to this excellent [blog post](https://karbartolome.quarto.pub/the-grammar-of-tables/) on 'the grammar of tables' by Karina Bartolomé that walks through creating a table with **matplotlib**.\n",
    "\n",
    "Note that some packages, like **pyfixest**, come with their own options to export tables. In the case of **Pyfixest**, there's a built-in way to export regression tables to formats including latex. You can find more on this in [the page on regressions](/econmt-regression.ipynb)."
   ]
  },
  {
   "cell_type": "markdown",
   "metadata": {},
   "source": [
    "## **pandas** for tables\n",
    "\n",
    "### Imports and setup\n",
    "\n",
    "As ever, we'll start by importing some key packages and initialising any settings:"
   ]
  },
  {
   "cell_type": "code",
   "execution_count": null,
   "metadata": {},
   "outputs": [],
   "source": [
    "import matplotlib.pyplot as plt\n",
    "import numpy as np\n",
    "import pandas as pd\n",
    "\n",
    "# Set seed for random numbers\n",
    "seed_for_prng = 78557\n",
    "prng = np.random.default_rng(\n",
    "    seed_for_prng\n",
    ")  # prng=probabilistic random number generator"
   ]
  },
  {
   "cell_type": "code",
   "execution_count": null,
   "id": "51a55374",
   "metadata": {
    "tags": [
     "remove-cell"
    ]
   },
   "outputs": [],
   "source": [
    "import matplotlib_inline.backend_inline\n",
    "\n",
    "# Plot settings\n",
    "plt.style.use(\n",
    "    \"https://github.com/aeturrell/coding-for-economists/raw/main/plot_style.txt\"\n",
    ")\n",
    "matplotlib_inline.backend_inline.set_matplotlib_formats(\"svg\")\n",
    "\n",
    "# Set max rows displayed for readability\n",
    "pd.set_option(\"display.max_rows\", 10)\n",
    "pd.set_option(\"display.max_columns\", 7)"
   ]
  },
  {
   "attachments": {},
   "cell_type": "markdown",
   "metadata": {},
   "source": [
    "We'll use the *penguins* dataset to demonstrate the use of **pandas** in creating tables. These data come with the **seaborn** package, which you'll need:"
   ]
  },
  {
   "cell_type": "code",
   "execution_count": null,
   "metadata": {},
   "outputs": [],
   "source": [
    "import seaborn as sns\n",
    "\n",
    "pen = sns.load_dataset(\"penguins\")\n",
    "pen.head()"
   ]
  },
  {
   "attachments": {},
   "cell_type": "markdown",
   "metadata": {},
   "source": [
    "### Preparing and creating your table in **pandas**\n",
    "\n",
    "There are a few operations that you'll want to do again, and again, and again to create tables. A cross-tab is one such operation! A cross-tab is just a count of the number of elements split by two groupings. Rather than just display this using the `pd.crosstab()` function, we can add totals or percentages using the `margins=` and `normalize=` commands.\n",
    "\n",
    "In the below, we'll use margins and normalisation so that each row sums to 1, and the last row shows the probability mass over islands."
   ]
  },
  {
   "cell_type": "code",
   "execution_count": null,
   "metadata": {},
   "outputs": [],
   "source": [
    "pd.crosstab(pen[\"species\"], pen[\"island\"], margins=True, normalize=\"index\")"
   ]
  },
  {
   "attachments": {},
   "cell_type": "markdown",
   "metadata": {},
   "source": [
    "The neat thing about the cross-tabs that come out is that they are themselves **pandas** dataframes.\n",
    "\n",
    "Of course, the usual **pandas** functions can be used to create any table you need:"
   ]
  },
  {
   "cell_type": "code",
   "execution_count": null,
   "metadata": {},
   "outputs": [],
   "source": [
    "pen_summary = pen.groupby([\"species\", \"island\"]).agg(\n",
    "    median_bill=(\"bill_length_mm\", \"median\"),\n",
    "    mean_bill=(\"bill_length_mm\", \"mean\"),\n",
    "    std_flipper=(\"flipper_length_mm\", \"std\"),\n",
    ")\n",
    "pen_summary"
   ]
  },
  {
   "attachments": {},
   "cell_type": "markdown",
   "metadata": {},
   "source": [
    "For reasons that will become apparent later, we'll replace one of these values with a missing value (`pd.NA`)."
   ]
  },
  {
   "cell_type": "code",
   "execution_count": null,
   "metadata": {},
   "outputs": [],
   "source": [
    "pen_summary.iloc[2, 1] = pd.NA"
   ]
  },
  {
   "attachments": {},
   "cell_type": "markdown",
   "metadata": {},
   "source": [
    "The table we just saw, `pen_summary`, is not what you'd call publication quality. The numbers have lots of superfluous digits. The names are useful for when you're doing analysis, but might not be so obvious to someone coming to this table for the first time. So let's see what we can do to clean it up a bit.\n",
    "\n",
    "First, those numbers. We can apply number rounding quickly using `.round()`."
   ]
  },
  {
   "cell_type": "code",
   "execution_count": null,
   "metadata": {},
   "outputs": [],
   "source": [
    "pen_summary.round(2)"
   ]
  },
  {
   "attachments": {},
   "cell_type": "markdown",
   "metadata": {},
   "source": [
    "This returns another dataframe. To change the names of the columns, you can just use one of the standard approaches:"
   ]
  },
  {
   "cell_type": "code",
   "execution_count": null,
   "metadata": {},
   "outputs": [],
   "source": [
    "pen_sum_clean = pen_summary.rename(\n",
    "    columns={\n",
    "        \"median_bill\": \"Median bill length (mm)\",\n",
    "        \"mean_bill\": \"Mean bill length (mm)\",\n",
    "        \"std_flipper\": \"Std. deviation of flipper length\",\n",
    "    }\n",
    ")\n",
    "pen_sum_clean"
   ]
  },
  {
   "attachments": {},
   "cell_type": "markdown",
   "metadata": {},
   "source": [
    "One tip is to always have a dictionary up your sleeve that maps between the short names that are convenient for coding, and the longer names that you need to make outputs clear. Then, just before you do any exporting, you can always map the short names into the long names."
   ]
  },
  {
   "attachments": {},
   "cell_type": "markdown",
   "metadata": {},
   "source": [
    "### Styling a **pandas** dataframe\n",
    "\n",
    "As well as making direct modifications to a dataframe, you can apply *styles*. These are much more versatile ways to achieve styling of a table *for some output formats, namely HTML* and, although it isn't perfect, for Latex too. (But this doesn't work for markdown outputs, and markdown doesn't support such rich formatting in any case.)\n",
    "\n",
    "Behind the scenes, when a table is displayed on a webpage like the one you're reading right now, HTML (the language most of the internet is in) is used. Styling is a way of modifying the default HTML for showing tables so that they look nicer or better.\n",
    "\n",
    "In the example below, you can see some of the options that are available:\n",
    "\n",
    "- `precision` is like `.round()`\n",
    "- `na_rep` sets how missing values are rendered\n",
    "- `thousands` sets the separator between every thousand (for readability)\n",
    "- `formatter` gives fine-grained control over the formatting of individual columns\n"
   ]
  },
  {
   "cell_type": "code",
   "execution_count": null,
   "metadata": {},
   "outputs": [],
   "source": [
    "pen_styled = pen_sum_clean.style.format(\n",
    "    precision=3,\n",
    "    na_rep=\"Value missing\",\n",
    "    thousands=\",\",\n",
    "    formatter={\n",
    "        \"Mean bill length (mm)\": \"{:.1f}\",\n",
    "        \"Std. deviation of flipper length (mm)\": lambda x: \"{:,.0f} um\".format(x * 1e3),\n",
    "    },\n",
    ").set_caption(\"This is the title\")\n",
    "pen_styled"
   ]
  },
  {
   "attachments": {},
   "cell_type": "markdown",
   "metadata": {},
   "source": [
    "If you need to add more labels to either the index or the column names, you can. It's a bit fiddly, but you can."
   ]
  },
  {
   "cell_type": "code",
   "execution_count": null,
   "metadata": {},
   "outputs": [],
   "source": [
    "pen_sum_extra_col_info = pen_sum_clean.copy()  # create an independent copy\n",
    "pen_sum_extra_col_info.columns = [[\"Lengths\", \"Lengths\", \"Stds\"], pen_sum_clean.columns]\n",
    "\n",
    "pen_sum_extra_col_info_styled = (\n",
    "    pen_sum_extra_col_info.style.format(\n",
    "        precision=3,\n",
    "        na_rep=\"Value missing\",\n",
    "        thousands=\",\",\n",
    "        formatter={\n",
    "            \"Mean bill length (mm)\": \"{:.1f}\",\n",
    "            \"Std. deviation of flipper length (mm)\": lambda x: \"{:,.0f} um\".format(\n",
    "                x * 1e3\n",
    "            ),\n",
    "        },\n",
    "    )\n",
    "    .set_caption(\"This is the title\")\n",
    "    .set_table_styles([{\"selector\": \"th\", \"props\": [(\"text-align\", \"center\")]}])\n",
    ")\n",
    "pen_sum_extra_col_info_styled"
   ]
  },
  {
   "attachments": {},
   "cell_type": "markdown",
   "metadata": {},
   "source": [
    "Let's see an example of exporting this to Latex too:"
   ]
  },
  {
   "cell_type": "code",
   "execution_count": null,
   "metadata": {},
   "outputs": [],
   "source": [
    "pen_sum_extra_col_info_styled.to_latex()"
   ]
  },
  {
   "attachments": {},
   "cell_type": "markdown",
   "metadata": {},
   "source": [
    "You can read more about the style functionality over at the [**pandas** Styler docs](https://pandas.pydata.org/docs/reference/api/pandas.io.formats.style.Styler.to_latex.html)."
   ]
  },
  {
   "attachments": {},
   "cell_type": "markdown",
   "metadata": {},
   "source": [
    "Another thing you might reasonably want to do is provide summary statistics for all columns, as the last column, or for all rows, as the last row. To do this for, say, the mean when *not* using the `pd.crosstab` function, you will need to insert a summary row into the dataframe object. To start with, you need to actually create the summary row—this is achieved with the `.mean(axis=0)` method to get the mean over rows. We cast this into being a dataframe using `pd.DataFrame` as otherwise it would just be a single column, or Series object. Then we need to give the columns a name that's better than the default \"`0`\", and we choose a multi-level (here, two level) column name recognising that the *index* of our original dataframe has two levels: species and island. We actually just want to put \"summary\" in once and we've arbitrarily chosen the first level for that. Note that multi-level indices and columns can get complicated but the essential trick to bear in mind is that you replace a list of strings with a list of tuples of strings, eg for the first column `[\"Summary:\", ...]` becomes `[(\"Summary\", \"summary level two\"), ...]`. Putting this all together gives us a dataframe with an *index* that is the same as the *columns* of the original dataframe:"
   ]
  },
  {
   "cell_type": "code",
   "execution_count": null,
   "metadata": {},
   "outputs": [],
   "source": [
    "summary_row = pd.DataFrame(pen_sum_extra_col_info.mean(axis=0))\n",
    "summary_row.columns = [(\"Summary:\", \"\")]  # note our index has two levels\n",
    "summary_row"
   ]
  },
  {
   "attachments": {},
   "cell_type": "markdown",
   "metadata": {},
   "source": [
    "Next we need to transpose the new summary row (so that its columns align with those in our original data frame) using `.T`, and concatenate the two dataframes together:"
   ]
  },
  {
   "cell_type": "code",
   "execution_count": null,
   "metadata": {},
   "outputs": [],
   "source": [
    "pd.concat([pen_sum_extra_col_info, summary_row.T], axis=0)"
   ]
  },
  {
   "attachments": {},
   "cell_type": "markdown",
   "metadata": {},
   "source": [
    "Once this is done, you can apply all the usual stylings."
   ]
  },
  {
   "attachments": {},
   "cell_type": "markdown",
   "metadata": {},
   "source": [
    "### Writing **pandas** tables to file\n",
    "\n",
    "Writing **pandas** tables to file is fairly straightforward: just use one of **pandas** many, many output functions. These typically begin with `.to_` and then the output name. The most useful output formats will be:\n",
    "\n",
    "- `to_html()`\n",
    "- `to_latex()`\n",
    "- `to_string()`\n",
    "- `to_markdown()`\n",
    "\n",
    "Add the filename you'd like to write to within the brackets following these method names. For example, to write a latex table it would be:\n",
    "\n",
    "```python\n",
    "pen_styled.to_latex(Path(\"outputs/table_one.tex\"))\n",
    "```\n",
    "\n",
    "These files can then be picked up by other documents. Note that, sometimes, when exporting to Latex, the code will have \"escape\" characters, for example extra backslashes. In some versions of **pandas** you can turn these off with an `escape=False` keyword argument.\n",
    "\n",
    "It's not perfect, but if you're writing a table to latex and want footnotes and source notes, you can make use of the `to_latex()` method's `caption=` keyword argument."
   ]
  },
  {
   "attachments": {},
   "cell_type": "markdown",
   "metadata": {},
   "source": [
    "### Limitations to **pandas** tables\n",
    "\n",
    "**pandas** tables have some limitations. It is not easy to include rich information such as images: while they can be included in the HTML rendition of a table on a webpage or in a Jupyter Notebook, it's far harder to export this kind of information sensibly to an output file that *isn't* HTML.\n",
    "\n",
    "A more tricky general issue with them is that it can be hard to include all of the relevant information you'd expect in a table: they work extremely well for a typical table that is just rows and columns with equal-sized cells, but it you want to include, say, a long row (of a single cell) at the end for either footnotes or source notes, there isn't an obvious way to do it. Similarly, it's hard to make parts of a table such as the title, sub-title, and stubhead label work well in all cases.\n",
    "\n",
    "To create a footnote or source note row, you could insert an extra row like above, but it's a very unsatisfactory work-around as your notes can only be in one of the columns (not spread across all of them) and it will lead to you losing the data types in at least one of your original columns.\n",
    "\n",
    "However, there is another option for that..."
   ]
  },
  {
   "cell_type": "markdown",
   "metadata": {},
   "source": [
    "## **g**reat **t**ables for tables\n",
    "\n",
    "Newcomer [**great tables**](https://posit-dev.github.io/great-tables/articles/intro.html) has swept in and provided a compelling way to make really fancy tables right off the bat.\n",
    "\n",
    "This section is indebted to the **great tables** documentation.\n",
    "\n",
    "Let's start with a basic example using some data on islands:"
   ]
  },
  {
   "cell_type": "code",
   "execution_count": null,
   "metadata": {},
   "outputs": [],
   "source": [
    "from great_tables.data import islands  # this is a pandas dataframe\n",
    "\n",
    "islands.head()"
   ]
  },
  {
   "cell_type": "markdown",
   "metadata": {},
   "source": [
    "Okay, now we're going to construct a table. Now, importantly, unlike **pandas**, we can add in a subtitle, and as many source notes as we like (notes that appeaer under the table)."
   ]
  },
  {
   "cell_type": "code",
   "execution_count": null,
   "metadata": {},
   "outputs": [],
   "source": [
    "from great_tables import GT, md\n",
    "\n",
    "islands_mini = islands.sort_values(by=\"size\", ascending=False).head(10)\n",
    "\n",
    "islands_table = (\n",
    "    GT(islands_mini)\n",
    "    .tab_header(\n",
    "        title=\"Large Landmasses of the World\",\n",
    "        subtitle=\"The top ten largest are presented\",\n",
    "    )\n",
    "    .tab_stub(rowname_col=\"name\")\n",
    "    .tab_source_note(\n",
    "        source_note=\"Source: The World Almanac and Book of Facts, 1975, page 406.\"\n",
    "    )\n",
    "    .tab_source_note(\n",
    "        source_note=md(\n",
    "            \"Reference: McNeil, D. R. (1977) *Interactive Data Analysis*. Wiley.\"\n",
    "        )\n",
    "    )\n",
    "    .tab_stubhead(label=\"landmass\")\n",
    "    .fmt_integer(columns=\"size\")\n",
    ")\n",
    "\n",
    "islands_table"
   ]
  },
  {
   "cell_type": "markdown",
   "metadata": {},
   "source": [
    "The naming convention of the different parts of the table should be fairly intuitive but the diagram below will help you to navigate all of the possible options:\n",
    "\n",
    "![The components of a (great) table](https://posit-dev.github.io/great-tables/assets/the_components_of_a_table.svg)"
   ]
  },
  {
   "cell_type": "markdown",
   "metadata": {},
   "source": [
    "Our first example did not make use of spanner tables, but we can do so in a second, on air quality:"
   ]
  },
  {
   "cell_type": "code",
   "execution_count": null,
   "metadata": {},
   "outputs": [],
   "source": [
    "from great_tables import GT, html\n",
    "from great_tables.data import airquality\n",
    "\n",
    "airquality_m = airquality.head(10).assign(Year=1973)\n",
    "\n",
    "gt_airquality = (\n",
    "    GT(airquality_m)\n",
    "    .tab_header(\n",
    "        title=\"New York Air Quality Measurements\",\n",
    "        subtitle=\"Daily measurements in New York City (May 1-10, 1973)\",\n",
    "    )\n",
    "    .tab_spanner(label=\"Time\", columns=[\"Year\", \"Month\", \"Day\"])\n",
    "    .tab_spanner(label=\"Measurement\", columns=[\"Ozone\", \"Solar_R\", \"Wind\", \"Temp\"])\n",
    "    .cols_move_to_start(columns=[\"Year\", \"Month\", \"Day\"])\n",
    "    .cols_label(\n",
    "        Ozone=html(\"Ozone,<br>ppbV\"),\n",
    "        Solar_R=html(\"Solar R.,<br>cal/m<sup>2</sup>\"),\n",
    "        Wind=html(\"Wind,<br>mph\"),\n",
    "        Temp=html(\"Temp,<br>&deg;F\"),\n",
    "    )\n",
    ")\n",
    "\n",
    "gt_airquality"
   ]
  },
  {
   "cell_type": "markdown",
   "metadata": {},
   "source": [
    "One of the great features of great tables is that we can add in \"nanoplots\" that provide further information on the data being presented but in a visual format. Here's an example:"
   ]
  },
  {
   "cell_type": "code",
   "execution_count": null,
   "metadata": {},
   "outputs": [],
   "source": [
    "numbers_df = pd.DataFrame(\n",
    "    {\n",
    "        \"example\": [\"Row \" + str(x) for x in range(1, 5)],\n",
    "        \"numbers\": [\n",
    "            {\"val\": [20, 23, 6, 7, 37, 23, 21, 4, 7, 16]},\n",
    "            {\"val\": [2.3, 6.8, 9.2, 2.42, 3.5, 12.1, 5.3, 3.6, 7.2, 3.74]},\n",
    "            {\"val\": [-12, -5, 6, 3.7, 0, 8, -7.4]},\n",
    "            {\"val\": [2, 0, 15, 7, 8, 10, 1, 24, 17, 13, 6]},\n",
    "        ],\n",
    "    }\n",
    ")\n",
    "\n",
    "GT(numbers_df).fmt_nanoplot(columns=\"numbers\")"
   ]
  },
  {
   "cell_type": "markdown",
   "metadata": {},
   "source": [
    "And one with a min and max as a reference:"
   ]
  },
  {
   "cell_type": "code",
   "execution_count": null,
   "metadata": {},
   "outputs": [],
   "source": [
    "GT(numbers_df).fmt_nanoplot(columns=\"numbers\", reference_area=[\"min\", \"median\"])"
   ]
  },
  {
   "cell_type": "markdown",
   "metadata": {},
   "source": [
    "A line chart isn't the only type supported. For example there are bars too. And there are lots of formatting options. (Try hovering your mouse over the table below!)"
   ]
  },
  {
   "cell_type": "code",
   "execution_count": null,
   "metadata": {},
   "outputs": [],
   "source": [
    "from great_tables import nanoplot_options\n",
    "\n",
    "(\n",
    "    GT(numbers_df).fmt_nanoplot(\n",
    "        columns=\"numbers\",\n",
    "        plot_type=\"bar\",\n",
    "        autoscale=True,\n",
    "        reference_line=\"min\",\n",
    "        reference_area=[0, \"max\"],\n",
    "        options=nanoplot_options(\n",
    "            data_bar_stroke_color=\"gray\",\n",
    "            data_bar_stroke_width=2,\n",
    "            data_bar_fill_color=\"orange\",\n",
    "            data_bar_negative_stroke_color=\"blue\",\n",
    "            data_bar_negative_stroke_width=1,\n",
    "            data_bar_negative_fill_color=\"lightblue\",\n",
    "            reference_line_color=\"pink\",\n",
    "            reference_area_fill_color=\"bisque\",\n",
    "            vertical_guide_stroke_color=\"blue\",\n",
    "        ),\n",
    "    )\n",
    ")"
   ]
  },
  {
   "cell_type": "markdown",
   "metadata": {},
   "source": [
    "You can also colour cells as you like, or based on a condition (including the *type* of data.) Here's an example showing that off:"
   ]
  },
  {
   "cell_type": "code",
   "execution_count": null,
   "metadata": {},
   "outputs": [],
   "source": [
    "import polars as pl\n",
    "from great_tables.data import sza\n",
    "\n",
    "# this is just some data prep\n",
    "# that gets data in right shape\n",
    "sza_pivot = (\n",
    "    pl.from_pandas(sza)\n",
    "    .filter((pl.col(\"latitude\") == \"20\") & (pl.col(\"tst\") <= \"1200\"))\n",
    "    .select(pl.col(\"*\").exclude(\"latitude\"))\n",
    "    .drop_nulls()\n",
    "    .pivot(values=\"sza\", index=\"month\", on=\"tst\", sort_columns=True)\n",
    ")\n",
    "sza_pivot.head()"
   ]
  },
  {
   "cell_type": "code",
   "execution_count": null,
   "metadata": {},
   "outputs": [],
   "source": [
    "(\n",
    "    GT(sza_pivot, rowname_col=\"month\")\n",
    "    .data_color(\n",
    "        domain=[90, 0],\n",
    "        palette=[\"rebeccapurple\", \"white\", \"orange\"],\n",
    "        na_color=\"white\",\n",
    "    )\n",
    "    .tab_header(\n",
    "        title=\"Solar Zenith Angles from 05:30 to 12:00\",\n",
    "        subtitle=html(\"Average monthly values at latitude of 20&deg;N.\"),\n",
    "    )\n",
    ")"
   ]
  },
  {
   "cell_type": "markdown",
   "metadata": {},
   "source": [
    "All of these tables have shown up as gloriously rendered HTML, which is an expoert option via `GT.as_raw_html()`. And you can easily save them as high quality (lossless) image files too via `GT.save()`.\n",
    "\n",
    "There is also a nascent latex export option, which is critical for research work. While some features aren't yet supported, if you need a vanilla table, it's still very useful. For example, for the islands dataset we saw earlier, we have to 'turn off' the use of markdown in one of the source notes as so (using regular text instead):"
   ]
  },
  {
   "cell_type": "code",
   "execution_count": null,
   "metadata": {},
   "outputs": [],
   "source": [
    "simple_islands_table = (\n",
    "    GT(islands_mini)\n",
    "    .tab_header(\n",
    "        title=\"Large Landmasses of the World\",\n",
    "        subtitle=\"The top ten largest are presented\",\n",
    "    )\n",
    "    .tab_stub(rowname_col=\"name\")\n",
    "    .tab_source_note(\n",
    "        source_note=\"Source: The World Almanac and Book of Facts, 1975, page 406.\"\n",
    "    )\n",
    "    .tab_source_note(\n",
    "        source_note=(\n",
    "            \"Reference: McNeil, D. R. (1977) Interactive Data Analysis. Wiley.\"\n",
    "        )\n",
    "    )\n",
    "    .tab_stubhead(label=\"landmass\")\n",
    "    .fmt_integer(columns=\"size\")\n",
    ")\n",
    "\n",
    "simple_islands_table"
   ]
  },
  {
   "cell_type": "markdown",
   "metadata": {},
   "source": [
    "Then to export to a table that can be used in your main latex report file via `\\input{table_out.tex}` it would be:\n",
    "\n",
    "```python\n",
    "with open(\"table_out.tex\", \"w\") as f:\n",
    "    f.write(simple_islands_table.as_latex())\n",
    "```"
   ]
  }
 ],
 "metadata": {
  "celltoolbar": "Tags",
  "kernelspec": {
   "display_name": "codeforecon",
   "language": "python",
   "name": "python3"
  },
  "language_info": {
   "codemirror_mode": {
    "name": "ipython",
    "version": 3
   },
   "file_extension": ".py",
   "mimetype": "text/x-python",
   "name": "python",
   "nbconvert_exporter": "python",
   "pygments_lexer": "ipython3",
   "version": "3.10.16"
  }
 },
 "nbformat": 4,
 "nbformat_minor": 4
}
