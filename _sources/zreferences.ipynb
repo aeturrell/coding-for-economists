{
 "cells": [
  {
   "cell_type": "markdown",
   "id": "e28745a1",
   "metadata": {},
   "source": [
    "# Bibliography\n",
    "\n",
    "```{bibliography} references.bib\n",
    ":style: unsrtalpha\n",
    "```"
   ]
  }
 ],
 "metadata": {
  "jupytext": {
   "cell_metadata_filter": "-all",
   "formats": "md:myst",
   "text_representation": {
    "extension": ".md",
    "format_name": "myst",
    "format_version": "0.8",
    "jupytext_version": "1.5.0"
   }
  },
  "kernelspec": {
   "display_name": "Python 3.10.12 64-bit ('codeforecon': conda)",
   "language": "python",
   "name": "python3"
  },
  "source_map": [
   14
  ]
 },
 "nbformat": 4,
 "nbformat_minor": 5
}